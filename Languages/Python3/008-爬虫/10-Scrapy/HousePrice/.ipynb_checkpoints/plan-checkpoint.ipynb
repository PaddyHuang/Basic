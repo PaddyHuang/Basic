{
 "cells": [
  {
   "cell_type": "markdown",
   "metadata": {},
   "source": [
    "# 房价爬取计划\n",
    "\n",
    "## 链家网\n",
    "\n",
    "### 新房\n",
    "|小区名称|所在地区|房型户型|所在楼层|建筑面积|房屋朝向|总价|详情|\n",
    "|:-----:|:----:|:-----:|:-----:|:----:|:-----:|:-:|:-:|\n",
    "\n",
    "### 二手房\n",
    "|小区名称|所在地区|房型户型|所在楼层|建筑面积|房屋朝向|房屋年限|总价|详情|\n",
    "|:-----:|:----:|:-----:|:-----:|:----:|:-----:|:-----:|:-:|:-:|\n",
    "\n",
    "\n",
    "### 租房\n",
    "|小区名称|所在地区|房型户型|建筑面积|房屋朝向|月租|\n",
    "|:-----:|:----:|:-----:|:-----:|:----:|:--:|\n",
    "\n",
    "## 安居客\n",
    "\n",
    "## 自如"
   ]
  }
 ],
 "metadata": {
  "kernelspec": {
   "display_name": "Python 3",
   "language": "python",
   "name": "python3"
  },
  "language_info": {
   "codemirror_mode": {
    "name": "ipython",
    "version": 3
   },
   "file_extension": ".py",
   "mimetype": "text/x-python",
   "name": "python",
   "nbconvert_exporter": "python",
   "pygments_lexer": "ipython3",
   "version": "3.7.3"
  }
 },
 "nbformat": 4,
 "nbformat_minor": 4
}
